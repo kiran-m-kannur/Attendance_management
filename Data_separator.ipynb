{
  "nbformat": 4,
  "nbformat_minor": 0,
  "metadata": {
    "colab": {
      "name": "Data separator.ipynb",
      "provenance": []
    },
    "kernelspec": {
      "name": "python3",
      "display_name": "Python 3"
    },
    "language_info": {
      "name": "python"
    }
  },
  "cells": [
    {
      "cell_type": "code",
      "metadata": {
        "id": "4rAJqQnZZFX1"
      },
      "source": [
        "import shutil\n",
        "import os\n",
        "import glob"
      ],
      "execution_count": 1,
      "outputs": []
    },
    {
      "cell_type": "code",
      "metadata": {
        "id": "da_SeoZUZQHp"
      },
      "source": [
        "src = '/trainset' #Put your Source location here\n",
        "dst_train = '/Train'#put destination for train data location without train folder here\n",
        "dst_train = '/Test' #put destination location for test data without test folder here\n",
        "\n",
        "shutil.copytree(src, dst_test, ignore = shutil.ignore_patterns('*script*'))\n",
        "\n",
        "shutil.copytree(src, dst_train, ignore = shutil.ignore_patterns('*0000001*','*0000002*','*0000003*','*0000004*','*0000005*','*0000006*','*0000007*','*0000008*','*0000009*','*0000010*','*0000011*','*0000012*','*0000000*','*0000015*''*0000017*'))\n"
      ],
      "execution_count": null,
      "outputs": []
    },
    {
      "cell_type": "code",
      "metadata": {
        "id": "vtleFowHaKg2"
      },
      "source": [
        "for files in glob.glob('/trainset/**/**/**/**.jpg', recursive = True):\n",
        "    image = cv2.imread(files)\n",
        "    face_cascade = cv2.CascadeClassifier(cv2.data.haarcascades + 'haarcascade_frontalface_default.xml')\n",
        "    faces = face_cascade.detectMultiScale(image, 1.3, 5)\n",
        "    for (x, y, w, h) in faces:\n",
        "        faces = image[y:y + h, x:x + w]\n",
        "        cv2.imwrite(files, faces)"
      ],
      "execution_count": null,
      "outputs": []
    }
  ]
}